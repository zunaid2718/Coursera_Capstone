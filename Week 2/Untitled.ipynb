{
 "cells": [
  {
   "cell_type": "markdown",
   "metadata": {},
   "source": [
    "# Business Problem & Data Description"
   ]
  },
  {
   "cell_type": "markdown",
   "metadata": {},
   "source": [
    "## 1. Business Problem"
   ]
  },
  {
   "cell_type": "markdown",
   "metadata": {},
   "source": [
    "Nowadays, with the car counts increasing repidly in global area, there are more and more traffic accidents occurring everyday. The current situation impacts everyone's daily life, as well as the city management problem for the goverments. Hence, it's important to analyze the severity of traffic accident factors with select the appropriate data lable within weather conditions, special events, roadworks, traffic jams, etc.\n",
    "\n",
    "The benefits of data insight: the corresponding goverment could allocate the resources feasibly. Besides, the drivers could be notified to change the planned route for avoiding the traffice accident.\n",
    "\n",
    "The transportation department should be interested in the data analysis and predicate which can save time and budget. In the meantime, the citizens will save time and won't put themself into the risk."
   ]
  },
  {
   "cell_type": "markdown",
   "metadata": {},
   "source": [
    "## 2. Data Description"
   ]
  },
  {
   "cell_type": "markdown",
   "metadata": {},
   "source": [
    "The original data comes from the following Kaggle data set which is divided into 4 parts: characteristics, places, users, holiday.\n",
    "\n",
    "Select the most relevant features of the dataset as following:\n",
    "\n",
    "In the characteristics dataset, features: \"lighting\", \"localisation\"(agg), \"type of intersection\", \"atmospheric conditions\", \"type of collisions\", \"department\", \"adress\", \"time\" and the coordinates.\n",
    "\n",
    "In the places dataset, features: \"road categorie\", \"traffic regime\", \"number of traffic lanes\", \"road profile\", \"road shape\", \"surface condition\", \"situation\", \"school nearby\" and \"infrastructure\".\n",
    "\n",
    "By the users dataset, created the following features:\n",
    "\n",
    "num_us: total number of users involved in the accident.\n",
    "ped: Wether there are pedestrians involved or not.\n",
    "critic_age: If there is any user in between 17 and 31 y.o.\n",
    "sev : maximum gravity suffered by any user involved in the accident:\n",
    "0 = Unscathered or Light injury\n",
    "1 = Hospitalized wonded or Death\n",
    "In the holiday dataset to craft a new feature indicating the accident accurred during a holiday"
   ]
  },
  {
   "cell_type": "code",
   "execution_count": null,
   "metadata": {},
   "outputs": [],
   "source": []
  }
 ],
 "metadata": {
  "kernelspec": {
   "display_name": "Python 3",
   "language": "python",
   "name": "python3"
  },
  "language_info": {
   "codemirror_mode": {
    "name": "ipython",
    "version": 3
   },
   "file_extension": ".py",
   "mimetype": "text/x-python",
   "name": "python",
   "nbconvert_exporter": "python",
   "pygments_lexer": "ipython3",
   "version": "3.8.3"
  }
 },
 "nbformat": 4,
 "nbformat_minor": 4
}
