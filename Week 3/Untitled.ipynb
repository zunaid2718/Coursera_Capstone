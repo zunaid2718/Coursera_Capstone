{
 "cells": [
  {
   "cell_type": "markdown",
   "metadata": {},
   "source": [
    "\n",
    "# Predicting Car Accident Severity using machine learning"
   ]
  },
  {
   "cell_type": "markdown",
   "metadata": {},
   "source": [
    "### 1. Problem Definition"
   ]
  },
  {
   "cell_type": "markdown",
   "metadata": {},
   "source": [
    "In this project, we will try to predict car accident Severity"
   ]
  },
  {
   "cell_type": "markdown",
   "metadata": {},
   "source": [
    "### 2. Data"
   ]
  },
  {
   "cell_type": "markdown",
   "metadata": {},
   "source": [
    "\n",
    "The Data is taken from here\n",
    "\n",
    "https://s3.us.cloud-object-storage.appdomain.cloud/cf-courses-data/CognitiveClass/DP0701EN/version-2/Data-Collisions.csv"
   ]
  },
  {
   "cell_type": "markdown",
   "metadata": {},
   "source": [
    "### Import all tools we need"
   ]
  },
  {
   "cell_type": "code",
   "execution_count": 1,
   "metadata": {},
   "outputs": [
    {
     "name": "stdout",
     "output_type": "stream",
     "text": [
      "imported!\n"
     ]
    }
   ],
   "source": [
    "import pandas as pd\n",
    "import numpy as np\n",
    "import matplotlib.pyplot as plt\n",
    "import matplotlib as mpl\n",
    "from sklearn import preprocessing\n",
    "from scipy import stats\n",
    "import scipy as sp\n",
    "import random\n",
    "import seaborn as sns\n",
    "from sklearn.metrics import accuracy_score,f1_score,log_loss,classification_report,confusion_matrix\n",
    "from sklearn.tree import DecisionTreeClassifier\n",
    "from sklearn.model_selection import train_test_split\n",
    "from sklearn import svm\n",
    "from sklearn import metrics\n",
    "import matplotlib.image as mpimg\n",
    "from io import StringIO\n",
    "import itertools\n",
    "import pydotplus\n",
    "from imblearn import over_sampling\n",
    "from imblearn.over_sampling import SMOTE\n",
    "from sklearn.linear_model import LogisticRegression\n",
    "from sklearn.neighbors import KNeighborsClassifier\n",
    "print(\"imported!\")"
   ]
  },
  {
   "cell_type": "markdown",
   "metadata": {},
   "source": [
    "### Load Data"
   ]
  },
  {
   "cell_type": "code",
   "execution_count": 11,
   "metadata": {},
   "outputs": [
    {
     "name": "stderr",
     "output_type": "stream",
     "text": [
      "c:\\users\\pc\\appdata\\local\\programs\\python\\python38-32\\lib\\site-packages\\IPython\\core\\interactiveshell.py:3062: DtypeWarning: Columns (33) have mixed types.Specify dtype option on import or set low_memory=False.\n",
      "  has_raised = await self.run_ast_nodes(code_ast.body, cell_name,\n"
     ]
    },
    {
     "data": {
      "text/html": [
       "<div>\n",
       "<style scoped>\n",
       "    .dataframe tbody tr th:only-of-type {\n",
       "        vertical-align: middle;\n",
       "    }\n",
       "\n",
       "    .dataframe tbody tr th {\n",
       "        vertical-align: top;\n",
       "    }\n",
       "\n",
       "    .dataframe thead th {\n",
       "        text-align: right;\n",
       "    }\n",
       "</style>\n",
       "<table border=\"1\" class=\"dataframe\">\n",
       "  <thead>\n",
       "    <tr style=\"text-align: right;\">\n",
       "      <th></th>\n",
       "      <th>SEVERITYCODE</th>\n",
       "      <th>X</th>\n",
       "      <th>Y</th>\n",
       "      <th>OBJECTID</th>\n",
       "      <th>INCKEY</th>\n",
       "      <th>COLDETKEY</th>\n",
       "      <th>REPORTNO</th>\n",
       "      <th>STATUS</th>\n",
       "      <th>ADDRTYPE</th>\n",
       "      <th>INTKEY</th>\n",
       "      <th>...</th>\n",
       "      <th>ROADCOND</th>\n",
       "      <th>LIGHTCOND</th>\n",
       "      <th>PEDROWNOTGRNT</th>\n",
       "      <th>SDOTCOLNUM</th>\n",
       "      <th>SPEEDING</th>\n",
       "      <th>ST_COLCODE</th>\n",
       "      <th>ST_COLDESC</th>\n",
       "      <th>SEGLANEKEY</th>\n",
       "      <th>CROSSWALKKEY</th>\n",
       "      <th>HITPARKEDCAR</th>\n",
       "    </tr>\n",
       "  </thead>\n",
       "  <tbody>\n",
       "    <tr>\n",
       "      <th>0</th>\n",
       "      <td>2</td>\n",
       "      <td>-122.323148</td>\n",
       "      <td>47.703140</td>\n",
       "      <td>1</td>\n",
       "      <td>1307</td>\n",
       "      <td>1307</td>\n",
       "      <td>3502005</td>\n",
       "      <td>Matched</td>\n",
       "      <td>Intersection</td>\n",
       "      <td>37475.0</td>\n",
       "      <td>...</td>\n",
       "      <td>Wet</td>\n",
       "      <td>Daylight</td>\n",
       "      <td>NaN</td>\n",
       "      <td>NaN</td>\n",
       "      <td>NaN</td>\n",
       "      <td>10</td>\n",
       "      <td>Entering at angle</td>\n",
       "      <td>0</td>\n",
       "      <td>0</td>\n",
       "      <td>N</td>\n",
       "    </tr>\n",
       "    <tr>\n",
       "      <th>1</th>\n",
       "      <td>1</td>\n",
       "      <td>-122.347294</td>\n",
       "      <td>47.647172</td>\n",
       "      <td>2</td>\n",
       "      <td>52200</td>\n",
       "      <td>52200</td>\n",
       "      <td>2607959</td>\n",
       "      <td>Matched</td>\n",
       "      <td>Block</td>\n",
       "      <td>NaN</td>\n",
       "      <td>...</td>\n",
       "      <td>Wet</td>\n",
       "      <td>Dark - Street Lights On</td>\n",
       "      <td>NaN</td>\n",
       "      <td>6354039.0</td>\n",
       "      <td>NaN</td>\n",
       "      <td>11</td>\n",
       "      <td>From same direction - both going straight - bo...</td>\n",
       "      <td>0</td>\n",
       "      <td>0</td>\n",
       "      <td>N</td>\n",
       "    </tr>\n",
       "    <tr>\n",
       "      <th>2</th>\n",
       "      <td>1</td>\n",
       "      <td>-122.334540</td>\n",
       "      <td>47.607871</td>\n",
       "      <td>3</td>\n",
       "      <td>26700</td>\n",
       "      <td>26700</td>\n",
       "      <td>1482393</td>\n",
       "      <td>Matched</td>\n",
       "      <td>Block</td>\n",
       "      <td>NaN</td>\n",
       "      <td>...</td>\n",
       "      <td>Dry</td>\n",
       "      <td>Daylight</td>\n",
       "      <td>NaN</td>\n",
       "      <td>4323031.0</td>\n",
       "      <td>NaN</td>\n",
       "      <td>32</td>\n",
       "      <td>One parked--one moving</td>\n",
       "      <td>0</td>\n",
       "      <td>0</td>\n",
       "      <td>N</td>\n",
       "    </tr>\n",
       "    <tr>\n",
       "      <th>3</th>\n",
       "      <td>1</td>\n",
       "      <td>-122.334803</td>\n",
       "      <td>47.604803</td>\n",
       "      <td>4</td>\n",
       "      <td>1144</td>\n",
       "      <td>1144</td>\n",
       "      <td>3503937</td>\n",
       "      <td>Matched</td>\n",
       "      <td>Block</td>\n",
       "      <td>NaN</td>\n",
       "      <td>...</td>\n",
       "      <td>Dry</td>\n",
       "      <td>Daylight</td>\n",
       "      <td>NaN</td>\n",
       "      <td>NaN</td>\n",
       "      <td>NaN</td>\n",
       "      <td>23</td>\n",
       "      <td>From same direction - all others</td>\n",
       "      <td>0</td>\n",
       "      <td>0</td>\n",
       "      <td>N</td>\n",
       "    </tr>\n",
       "    <tr>\n",
       "      <th>4</th>\n",
       "      <td>2</td>\n",
       "      <td>-122.306426</td>\n",
       "      <td>47.545739</td>\n",
       "      <td>5</td>\n",
       "      <td>17700</td>\n",
       "      <td>17700</td>\n",
       "      <td>1807429</td>\n",
       "      <td>Matched</td>\n",
       "      <td>Intersection</td>\n",
       "      <td>34387.0</td>\n",
       "      <td>...</td>\n",
       "      <td>Wet</td>\n",
       "      <td>Daylight</td>\n",
       "      <td>NaN</td>\n",
       "      <td>4028032.0</td>\n",
       "      <td>NaN</td>\n",
       "      <td>10</td>\n",
       "      <td>Entering at angle</td>\n",
       "      <td>0</td>\n",
       "      <td>0</td>\n",
       "      <td>N</td>\n",
       "    </tr>\n",
       "  </tbody>\n",
       "</table>\n",
       "<p>5 rows × 38 columns</p>\n",
       "</div>"
      ],
      "text/plain": [
       "   SEVERITYCODE           X          Y  OBJECTID  INCKEY  COLDETKEY REPORTNO  \\\n",
       "0             2 -122.323148  47.703140         1    1307       1307  3502005   \n",
       "1             1 -122.347294  47.647172         2   52200      52200  2607959   \n",
       "2             1 -122.334540  47.607871         3   26700      26700  1482393   \n",
       "3             1 -122.334803  47.604803         4    1144       1144  3503937   \n",
       "4             2 -122.306426  47.545739         5   17700      17700  1807429   \n",
       "\n",
       "    STATUS      ADDRTYPE   INTKEY  ... ROADCOND                LIGHTCOND  \\\n",
       "0  Matched  Intersection  37475.0  ...      Wet                 Daylight   \n",
       "1  Matched         Block      NaN  ...      Wet  Dark - Street Lights On   \n",
       "2  Matched         Block      NaN  ...      Dry                 Daylight   \n",
       "3  Matched         Block      NaN  ...      Dry                 Daylight   \n",
       "4  Matched  Intersection  34387.0  ...      Wet                 Daylight   \n",
       "\n",
       "  PEDROWNOTGRNT  SDOTCOLNUM SPEEDING ST_COLCODE  \\\n",
       "0           NaN         NaN      NaN         10   \n",
       "1           NaN   6354039.0      NaN         11   \n",
       "2           NaN   4323031.0      NaN         32   \n",
       "3           NaN         NaN      NaN         23   \n",
       "4           NaN   4028032.0      NaN         10   \n",
       "\n",
       "                                          ST_COLDESC  SEGLANEKEY  \\\n",
       "0                                  Entering at angle           0   \n",
       "1  From same direction - both going straight - bo...           0   \n",
       "2                             One parked--one moving           0   \n",
       "3                   From same direction - all others           0   \n",
       "4                                  Entering at angle           0   \n",
       "\n",
       "   CROSSWALKKEY  HITPARKEDCAR  \n",
       "0             0             N  \n",
       "1             0             N  \n",
       "2             0             N  \n",
       "3             0             N  \n",
       "4             0             N  \n",
       "\n",
       "[5 rows x 38 columns]"
      ]
     },
     "execution_count": 11,
     "metadata": {},
     "output_type": "execute_result"
    }
   ],
   "source": [
    "main_df= pd.read_csv(\"Data-Collisions.csv\")\n",
    "main_df.head(5)"
   ]
  },
  {
   "cell_type": "markdown",
   "metadata": {},
   "source": [
    "### Data Exploration"
   ]
  },
  {
   "cell_type": "code",
   "execution_count": 12,
   "metadata": {},
   "outputs": [],
   "source": [
    "#Transform Severity Code values \n",
    "severity_code = main_df['SEVERITYCODE'].values\n",
    "\n",
    "labels = preprocessing.LabelEncoder()\n",
    "labels.fit([1, 2])\n",
    "severity_code = labels.transform (severity_code)\n",
    "main_df [\"SEVERITYCODE\"] = severity_code"
   ]
  },
  {
   "cell_type": "code",
   "execution_count": 4,
   "metadata": {},
   "outputs": [
    {
     "name": "stderr",
     "output_type": "stream",
     "text": [
      "c:\\users\\pc\\appdata\\local\\programs\\python\\python38-32\\lib\\site-packages\\pandas\\core\\frame.py:3990: SettingWithCopyWarning: \n",
      "A value is trying to be set on a copy of a slice from a DataFrame\n",
      "\n",
      "See the caveats in the documentation: https://pandas.pydata.org/pandas-docs/stable/user_guide/indexing.html#returning-a-view-versus-a-copy\n",
      "  return super().drop(\n"
     ]
    },
    {
     "ename": "NameError",
     "evalue": "name 'Variable' is not defined",
     "output_type": "error",
     "traceback": [
      "\u001b[1;31m---------------------------------------------------------------------------\u001b[0m",
      "\u001b[1;31mNameError\u001b[0m                                 Traceback (most recent call last)",
      "\u001b[1;32m<ipython-input-4-cac9cae00cb3>\u001b[0m in \u001b[0;36m<module>\u001b[1;34m\u001b[0m\n\u001b[0;32m     13\u001b[0m \u001b[0mplt\u001b[0m\u001b[1;33m.\u001b[0m\u001b[0mxlabel\u001b[0m\u001b[1;33m(\u001b[0m\u001b[1;34m\"Variables\"\u001b[0m\u001b[1;33m,\u001b[0m\u001b[0mfontsize\u001b[0m\u001b[1;33m=\u001b[0m\u001b[1;36m0.5\u001b[0m\u001b[1;33m,\u001b[0m\u001b[0mlabelpad\u001b[0m\u001b[1;33m=\u001b[0m\u001b[1;36m5\u001b[0m\u001b[1;33m)\u001b[0m\u001b[1;33m\u001b[0m\u001b[1;33m\u001b[0m\u001b[0m\n\u001b[0;32m     14\u001b[0m \u001b[0mplt\u001b[0m\u001b[1;33m.\u001b[0m\u001b[0mylabel\u001b[0m\u001b[1;33m(\u001b[0m\u001b[1;34m\"Frequency\"\u001b[0m\u001b[1;33m,\u001b[0m\u001b[0mfontsize\u001b[0m\u001b[1;33m=\u001b[0m\u001b[1;36m0.5\u001b[0m\u001b[1;33m,\u001b[0m\u001b[0mlabelpad\u001b[0m\u001b[1;33m=\u001b[0m\u001b[1;36m5\u001b[0m\u001b[1;33m)\u001b[0m\u001b[1;33m\u001b[0m\u001b[1;33m\u001b[0m\u001b[0m\n\u001b[1;32m---> 15\u001b[1;33m \u001b[0max\u001b[0m\u001b[1;33m.\u001b[0m\u001b[0mset_xlabel\u001b[0m\u001b[1;33m=\u001b[0m \u001b[0mVariable\u001b[0m\u001b[1;33m\u001b[0m\u001b[1;33m\u001b[0m\u001b[0m\n\u001b[0m\u001b[0;32m     16\u001b[0m \u001b[0mplt\u001b[0m\u001b[1;33m.\u001b[0m\u001b[0mxticks\u001b[0m\u001b[1;33m(\u001b[0m\u001b[0mrotation\u001b[0m\u001b[1;33m=\u001b[0m\u001b[1;36m360\u001b[0m\u001b[1;33m)\u001b[0m\u001b[1;33m\u001b[0m\u001b[1;33m\u001b[0m\u001b[0m\n\u001b[0;32m     17\u001b[0m \u001b[0mplt\u001b[0m\u001b[1;33m.\u001b[0m\u001b[0mshow\u001b[0m\u001b[1;33m(\u001b[0m\u001b[1;33m)\u001b[0m\u001b[1;33m\u001b[0m\u001b[1;33m\u001b[0m\u001b[0m\n",
      "\u001b[1;31mNameError\u001b[0m: name 'Variable' is not defined"
     ]
    },
    {
     "data": {
      "image/png": "[encoded data removed]",
      "text/plain": [
       "<Figure size 432x288 with 1 Axes>"
      ]
     },
     "metadata": {
      "needs_background": "light"
     },
     "output_type": "display_data"
    }
   ],
   "source": [
    "#Describe Data Frame\n",
    "descriptive_stats= main_df.describe(include=\"all\")\n",
    "\n",
    "#Plot count of selected variables\n",
    "descriptive_stats_plot=descriptive_stats[[\"INATTENTIONIND\",\"UNDERINFL\",\"WEATHER\",\"ROADCOND\",\"LIGHTCOND\",\"SEVERITYCODE\"]]\n",
    "descriptive_stats_plot.drop(['mean','top','freq','unique','std','min','max','25%','50%','75%'],axis=0,inplace=True)\n",
    "descriptive_stats_plot=descriptive_stats_plot.transpose()\n",
    "\n",
    "color1=['blue','blue','blue','blue','blue','blue']\n",
    "descriptive_stats_plot.plot(kind='bar',alpha=0.6,color=[color1])\n",
    "\n",
    "plt.title('Number of data entries for each variable', fontsize=15, fontweight='bold')\n",
    "plt.xlabel(\"Variables\",fontsize=0.5,labelpad=5)\n",
    "plt.ylabel(\"Frequency\",fontsize=0.5,labelpad=5)\n",
    "ax.set_xlabel= Variable\n",
    "plt.xticks(rotation=360)\n",
    "plt.show()"
   ]
  },
  {
   "cell_type": "code",
   "execution_count": 13,
   "metadata": {},
   "outputs": [
    {
     "data": {
      "image/png": "[encoded data removed]",
      "text/plain": [
       "<Figure size 1080x432 with 1 Axes>"
      ]
     },
     "metadata": {},
     "output_type": "display_data"
    }
   ],
   "source": [
    "explode_list = [0.05, 0.05, 0.2]\n",
    "color_list=['peachpuff','pink','darkorange']\n",
    "addtype=main_df['ADDRTYPE'].value_counts()\n",
    "\n",
    "addtype.plot(kind='pie',\n",
    "            figsize=(15, 6),\n",
    "            autopct='%1.1f%%',\n",
    "            startangle=90,\n",
    "            shadow=True,\n",
    "            labels=None,\n",
    "            pctdistance=1.12,\n",
    "            colors=color_list,\n",
    "            explode=explode_list)\n",
    "\n",
    "plt.title('Area of accident - Seattle, Washington', fontsize=18, y=1.05)\n",
    "plt.axis('equal')\n",
    "plt.legend(labels=addtype.index, loc='lower left')\n",
    "plt.show()"
   ]
  },
  {
   "cell_type": "code",
   "execution_count": 14,
   "metadata": {},
   "outputs": [],
   "source": [
    "#Check IncKey unqiue numbers\n",
    "main_df['INCKEY'].nunique()\n",
    "\n",
    "#Create arrays for each column and clean the data #Encoding Inattention (0 = No, 1 = Yes)\n",
    "main_df[\"INATTENTIONIND\"].replace(\"Y\", 1, inplace=True)\n",
    "main_df[\"INATTENTIONIND\"].replace(np.nan, 0, inplace=True)\n",
    "\n",
    "#Encoding Under the influence (0 = No, 1 = Yes)\n",
    "main_df[\"UNDERINFL\"].replace(\"N\", 0, inplace=True)\n",
    "main_df[\"UNDERINFL\"].replace(\"Y\", 1, inplace=True)\n",
    "\n",
    "#Encoding Light Conditions(0 = Light, 1 = Medium, 2 = Dark)\n",
    "main_df[\"LIGHTCOND\"].replace(\"Daylight\", 0, inplace=True)\n",
    "main_df[\"LIGHTCOND\"].replace(\"Dark - Street Lights On\", 1, inplace=True)\n",
    "main_df[\"LIGHTCOND\"].replace(\"Dark - No Street Lights\", 2, inplace=True)\n",
    "main_df[\"LIGHTCOND\"].replace(\"Dusk\", 1, inplace=True)\n",
    "main_df[\"LIGHTCOND\"].replace(\"Dawn\", 1, inplace=True)\n",
    "main_df[\"LIGHTCOND\"].replace(\"Dark - Street Lights Off\", 2, inplace=True)\n",
    "main_df[\"LIGHTCOND\"].replace(\"Dark - Unknown Lighting\", 2, inplace=True)\n",
    "main_df[\"LIGHTCOND\"].replace(\"Other\",\"Unknown\", inplace=True)\n",
    "\n",
    "#Encoding Weather Conditions(0 = Clear, 1 = Overcast and Cloudy, 2 = Windy, 3 = Rain and Snow\n",
    "main_df[\"WEATHER\"].replace(\"Clear\", 0, inplace=True)\n",
    "main_df[\"WEATHER\"].replace(\"Raining\", 3, inplace=True)\n",
    "main_df[\"WEATHER\"].replace(\"Overcast\", 1, inplace=True)\n",
    "main_df[\"WEATHER\"].replace(\"Other\", \"Unknown\", inplace=True)\n",
    "main_df[\"WEATHER\"].replace(\"Snowing\", 3, inplace=True)\n",
    "main_df[\"WEATHER\"].replace(\"Fog/Smog/Smoke\", 2, inplace=True)\n",
    "main_df[\"WEATHER\"].replace(\"Sleet/Hail/Freezing Rain\", 3, inplace=True)\n",
    "main_df[\"WEATHER\"].replace(\"Blowing Sand/Dirt\", 2, inplace=True)\n",
    "main_df[\"WEATHER\"].replace(\"Severe Crosswind\", 2, inplace=True)\n",
    "main_df[\"WEATHER\"].replace(\"Partly Cloudy\", 1, inplace=True)\n",
    "\n",
    "#Encoding Road Conditions(0 = Dry, 1 = Mushy, 2 = Wet)\n",
    "main_df[\"ROADCOND\"].replace(\"Dry\", 0, inplace=True)\n",
    "main_df[\"ROADCOND\"].replace(\"Wet\", 2, inplace=True)\n",
    "main_df[\"ROADCOND\"].replace(\"Ice\", 2, inplace=True)\n",
    "main_df[\"ROADCOND\"].replace(\"Snow/Slush\", 1, inplace=True)\n",
    "main_df[\"ROADCOND\"].replace(\"Other\", \"Unknown\", inplace=True)\n",
    "main_df[\"ROADCOND\"].replace(\"Standing Water\", 2, inplace=True)\n",
    "main_df[\"ROADCOND\"].replace(\"Sand/Mud/Dirt\", 1, inplace=True)\n",
    "main_df[\"ROADCOND\"].replace(\"Oil\", 2, inplace=True)"
   ]
  },
  {
   "cell_type": "code",
   "execution_count": 15,
   "metadata": {},
   "outputs": [],
   "source": [
    "selected_columns=main_df[[\"X\",\"Y\",\"INCKEY\",\"INATTENTIONIND\",\"UNDERINFL\",\"WEATHER\",\"ROADCOND\",\"LIGHTCOND\",\"SEVERITYCODE\"]]\n",
    "feature_df=selected_columns.copy()\n",
    "feature_df.dropna(axis=0,how='any',inplace=True)\n",
    "feature_stats=feature_df.describe()\n",
    "\n",
    "np.count_nonzero(feature_df['UNDERINFL'])\n",
    "\n",
    "#Light Condition\n",
    "lightcondsize = feature_df [\"LIGHTCOND\"].size\n",
    "\n",
    "featureinlightcond = feature_df ['LIGHTCOND'] == 'Unknown'\n",
    "\n",
    "lightcond = feature_df['LIGHTCOND']\n",
    "lightcond = lightcond.values\n",
    "lightcond = lightcond[featureinlightcond]\n",
    "\n",
    "lightcond[0:9036]=0\n",
    "lightcond[9036:13417]=1\n",
    "lightcond[13417:13961]=2\n",
    "\n",
    "feature_df.loc [feature_df.LIGHTCOND == \"Unknown\", 'LIGHTCOND'] = lightcond\n",
    "\n",
    "feature_df[\"LIGHTCOND\"]=feature_df[\"LIGHTCOND\"].astype(int)\n",
    "\n",
    "#Road Condition\n",
    "roadcondsize = feature_df [\"ROADCOND\"].size\n",
    "\n",
    "featureinroadcond = feature_df ['ROADCOND'] == 'Unknown'\n",
    "\n",
    "roadcond = feature_df['LIGHTCOND']\n",
    "roadcond = roadcond.values\n",
    "roadcond = roadcond[featureinroadcond]\n",
    "\n",
    "roadcond[0:9954]=0\n",
    "roadcond[9954:10040]=1\n",
    "roadcond[10040:15163]=2\n",
    "\n",
    "feature_df.loc[feature_df.ROADCOND == \"Unknown\", 'ROADCOND'] = roadcond\n",
    "feature_df[\"ROADCOND\"]=feature_df[\"ROADCOND\"].astype(int)\n",
    "\n",
    "#Weather Condition\n",
    "weathersize = feature_df [\"WEATHER\"].size\n",
    "\n",
    "featureinweather = feature_df ['WEATHER'] == 'Unknown'\n",
    "\n",
    "weather = feature_df['WEATHER']\n",
    "weather = weather.values\n",
    "weather = weather[featureinweather]\n",
    "\n",
    "weather[0:10151]=0\n",
    "weather[10151:12683]=1\n",
    "weather[12683:12742]=2\n",
    "weather[12742:15864]=3\n",
    "\n",
    "feature_df.loc[feature_df.WEATHER == \"Unknown\", 'WEATHER'] = weather\n",
    "feature_df[\"WEATHER\"]=feature_df[\"WEATHER\"].astype(int)\n",
    "\n",
    "#Convert remaining data to integers \n",
    "feature_df[\"INATTENTIONIND\"]=feature_df[\"INATTENTIONIND\"].astype(int)\n",
    "feature_df[\"UNDERINFL\"]=feature_df[\"UNDERINFL\"].astype(int)"
   ]
  },
  {
   "cell_type": "markdown",
   "metadata": {},
   "source": [
    "# Train and Test on Feature Data set¶"
   ]
  },
  {
   "cell_type": "code",
   "execution_count": 16,
   "metadata": {},
   "outputs": [
    {
     "name": "stdout",
     "output_type": "stream",
     "text": [
      "Train set: (128916, 5) (128916, 1)\n",
      "Test set: (55251, 5) (55251, 1)\n"
     ]
    }
   ],
   "source": [
    "\n",
    "X=feature_df[[\"INATTENTIONIND\",\"UNDERINFL\",\"ROADCOND\",\"WEATHER\",\"LIGHTCOND\"]].values\n",
    "y=feature_df[[\"SEVERITYCODE\"]].values\n",
    "\n",
    "#Test/Train split\n",
    "X_train, X_test, y_train, y_test = train_test_split(X, y, test_size=0.3, random_state=4)\n",
    "print ('Train set:', X_train.shape,  y_train.shape)\n",
    "print ('Test set:', X_test.shape,  y_test.shape)\n",
    "os = SMOTE (random_state=0)\n",
    "os_data_X, os_data_y= os.fit_sample(X_train, y_train)"
   ]
  },
  {
   "cell_type": "code",
   "execution_count": 17,
   "metadata": {},
   "outputs": [
    {
     "ename": "NameError",
     "evalue": "name 'yhatDT' is not defined",
     "output_type": "error",
     "traceback": [
      "\u001b[1;31m---------------------------------------------------------------------------\u001b[0m",
      "\u001b[1;31mNameError\u001b[0m                                 Traceback (most recent call last)",
      "\u001b[1;32m<ipython-input-17-5b990c374929>\u001b[0m in \u001b[0;36m<module>\u001b[1;34m\u001b[0m\n\u001b[0;32m     34\u001b[0m \u001b[1;33m\u001b[0m\u001b[0m\n\u001b[0;32m     35\u001b[0m     \u001b[1;31m#Plot it\u001b[0m\u001b[1;33m\u001b[0m\u001b[1;33m\u001b[0m\u001b[1;33m\u001b[0m\u001b[0m\n\u001b[1;32m---> 36\u001b[1;33m \u001b[0mcnf_matrix\u001b[0m \u001b[1;33m=\u001b[0m \u001b[0mconfusion_matrix\u001b[0m\u001b[1;33m(\u001b[0m\u001b[0my_test\u001b[0m\u001b[1;33m,\u001b[0m \u001b[0myhatDT\u001b[0m\u001b[1;33m,\u001b[0m \u001b[0mlabels\u001b[0m\u001b[1;33m=\u001b[0m\u001b[1;33m[\u001b[0m\u001b[1;36m1\u001b[0m\u001b[1;33m,\u001b[0m\u001b[1;36m0\u001b[0m\u001b[1;33m]\u001b[0m\u001b[1;33m)\u001b[0m\u001b[1;33m\u001b[0m\u001b[1;33m\u001b[0m\u001b[0m\n\u001b[0m\u001b[0;32m     37\u001b[0m \u001b[0mnp\u001b[0m\u001b[1;33m.\u001b[0m\u001b[0mset_printoptions\u001b[0m\u001b[1;33m(\u001b[0m\u001b[0mprecision\u001b[0m\u001b[1;33m=\u001b[0m\u001b[1;36m2\u001b[0m\u001b[1;33m)\u001b[0m\u001b[1;33m\u001b[0m\u001b[1;33m\u001b[0m\u001b[0m\n\u001b[0;32m     38\u001b[0m \u001b[1;33m\u001b[0m\u001b[0m\n",
      "\u001b[1;31mNameError\u001b[0m: name 'yhatDT' is not defined"
     ]
    }
   ],
   "source": [
    "import itertools\n",
    "def plot_confusion_matrix(cm, classes,\n",
    "                          normalize=False,\n",
    "                          title='Confusion matrix',\n",
    "                          cmap=plt.cm.Blues):\n",
    "    \"\"\"\n",
    "    This function prints and plots the confusion matrix.\n",
    "    Normalization can be applied by setting `normalize=True`.\n",
    "    \"\"\"\n",
    "    if normalize:\n",
    "        cm = cm.astype('float') / cm.sum(axis=1)[:, np.newaxis]\n",
    "        print(\"Normalized confusion matrix\")\n",
    "    else:\n",
    "        print('Confusion matrix, without normalization')\n",
    "\n",
    "    print(cm)\n",
    "\n",
    "    plt.imshow(cm, interpolation='nearest', cmap=cmap)\n",
    "    plt.title(title)\n",
    "    plt.colorbar()\n",
    "    tick_marks = np.arange(len(classes))\n",
    "    plt.xticks(tick_marks, classes, rotation=45)\n",
    "    plt.yticks(tick_marks, classes)\n",
    "\n",
    "    fmt = '.2f' if normalize else 'd'\n",
    "    thresh = cm.max() / 2.\n",
    "    for i, j in itertools.product(range(cm.shape[0]), range(cm.shape[1])):\n",
    "        plt.text(j, i, format(cm[i, j], fmt),\n",
    "                 horizontalalignment=\"center\",\n",
    "                 color=\"white\" if cm[i, j] > thresh else \"black\")\n",
    "    plt.tight_layout()\n",
    "    plt.ylabel('True label')\n",
    "    plt.xlabel('Predicted label')\n",
    "\n",
    "    #Plot it\n",
    "cnf_matrix = confusion_matrix(y_test, yhatDT, labels=[1,0])\n",
    "np.set_printoptions(precision=2)\n",
    "\n",
    "\n",
    "# Plot confusion matrix\n",
    "plt.figure()\n",
    "plot_confusion_matrix(cnf_matrix, classes=['Injury=1','Property Damage=0'],normalize= False,  title='Confusion matrix')"
   ]
  },
  {
   "cell_type": "code",
   "execution_count": 18,
   "metadata": {},
   "outputs": [
    {
     "name": "stdout",
     "output_type": "stream",
     "text": [
      "0.6895304113642095\n",
      "Accuracy 0.5969665707408011\n",
      "              precision    recall  f1-score   support\n",
      "\n",
      "           0       0.72      0.69      0.71     38445\n",
      "           1       0.35      0.38      0.36     16806\n",
      "\n",
      "    accuracy                           0.60     55251\n",
      "   macro avg       0.53      0.53      0.53     55251\n",
      "weighted avg       0.61      0.60      0.60     55251\n",
      "\n",
      "Confusion matrix, without normalization\n",
      "[[ 6321 10485]\n",
      " [11783 26662]]\n"
     ]
    },
    {
     "data": {
      "image/png": "[encoded data removed]",
      "text/plain": [
       "<Figure size 432x288 with 2 Axes>"
      ]
     },
     "metadata": {
      "needs_background": "light"
     },
     "output_type": "display_data"
    }
   ],
   "source": [
    "#Logistic Regression\n",
    "LR = LogisticRegression(C=0.01, solver='liblinear').fit(os_data_X,os_data_y)\n",
    "\n",
    "yhatLR = LR.predict(X_test)\n",
    "yhat_prob = LR.predict_proba(X_test)\n",
    "\n",
    "print(log_loss(y_test, yhat_prob))\n",
    "\n",
    "print (\"Accuracy\", accuracy_score(yhatLR,y_test))\n",
    "print (classification_report(y_test, yhatLR))\n",
    "\n",
    "cnf_matrix = confusion_matrix(y_test, yhatLR, labels=[1,0])\n",
    "np.set_printoptions(precision=2)\n",
    "\n",
    "\n",
    "#Plot confusion matrix\n",
    "plt.figure()\n",
    "plot_confusion_matrix(cnf_matrix, classes=['Injury=1','Property Damage=0'],normalize= False,  title='Confusion matrix')"
   ]
  },
  {
   "cell_type": "code",
   "execution_count": null,
   "metadata": {},
   "outputs": [],
   "source": []
  },
  {
   "cell_type": "code",
   "execution_count": null,
   "metadata": {},
   "outputs": [],
   "source": []
  }
 ],
 "metadata": {
  "kernelspec": {
   "display_name": "Python 3",
   "language": "python",
   "name": "python3"
  },
  "language_info": {
   "codemirror_mode": {
    "name": "ipython",
    "version": 3
   },
   "file_extension": ".py",
   "mimetype": "text/x-python",
   "name": "python",
   "nbconvert_exporter": "python",
   "pygments_lexer": "ipython3",
   "version": "3.8.3"
  }
 },
 "nbformat": 4,
 "nbformat_minor": 4
}
